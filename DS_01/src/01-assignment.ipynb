{
 "cells": [
  {
   "cell_type": "markdown",
   "id": "fffcbb2c-4423-4f1c-bc90-e1ac7fbaa456",
   "metadata": {},
   "source": [
    "# Задания "
   ]
  },
  {
   "cell_type": "markdown",
   "id": "c2d747fe-7b74-43e0-95b3-16525e9846ac",
   "metadata": {},
   "source": [
    "## Task 1"
   ]
  },
  {
   "cell_type": "markdown",
   "id": "685b3747-2ce6-434d-8969-a91baddbf85a",
   "metadata": {},
   "source": [
    "Напиши код, который будет решать квадратное уравнение вида\n",
    "$ax^2 + bx + c = 0$. \\\n",
    "Для этого понадобится найти дискриминант. Его формула - $ D = b^2 − 4ac $"
   ]
  },
  {
   "cell_type": "markdown",
   "id": "20bf557b-21f9-46fa-b8db-76b7a96526f4",
   "metadata": {},
   "source": [
    "Для начала напиши формулу нахождения корней квадратного уравнения на языке LaTeX\n",
    "\n",
    "$ x = \\frac{?}{?} $"
   ]
  },
  {
   "cell_type": "markdown",
   "id": "c78b058d-777d-4369-b86d-0c0fc013eba9",
   "metadata": {},
   "source": [
    "Теперь, когда ты вспомнил как находить корни, приступай к написанию функции:\n",
    "- Функция принимает на вход коэффициент a, b, c.\n",
    "- Функция должна возвращать кортеж корней уравнения. \n",
    "- Если корней у уравнения нет, то функция должна вернуть None"
   ]
  },
  {
   "cell_type": "code",
   "execution_count": 10,
   "id": "03b8b371-870b-42cc-8f53-1e8596406894",
   "metadata": {},
   "outputs": [],
   "source": [
    "import math\n",
    "\n",
    "def quadratic_equation(a, b, c):\n",
    "    t = tuple()\n",
    "    D = math.pow(b, 2.0) - 4.0 * a * c\n",
    "    if (D < 0):\n",
    "        t = None   \n",
    "    elif (D > 0):\n",
    "        x1 = (-b + math.sqrt(D)) / (2 * a)\n",
    "        x2 = (-b - math.sqrt(D)) / (2 * a)\n",
    "        t = (x1, x2)\n",
    "    else:\n",
    "        x1 = (-b + math.sqrt(D)) / (2 * a)\n",
    "        t = (x1,)\n",
    "    return t\n",
    "\n",
    "#  Запуск   \n",
    "t = tuple()\n",
    "t = quadratic_equation(1, 2, -3)"
   ]
  },
  {
   "cell_type": "markdown",
   "id": "a8541146-f127-4482-b067-279d50975dac",
   "metadata": {},
   "source": [
    "## Task 2"
   ]
  },
  {
   "cell_type": "markdown",
   "id": "816c48be-0963-4bd6-bd86-c8172eb8968e",
   "metadata": {},
   "source": [
    "Функция, которая на вход принимает cписок случайных чисел, а возвращает уже отсортированный методом Пузырька по возрастанию."
   ]
  },
  {
   "cell_type": "code",
   "execution_count": 9,
   "id": "3fbaf6b3-876f-4ecf-9be6-d26181ee3a48",
   "metadata": {},
   "outputs": [
    {
     "name": "stdout",
     "output_type": "stream",
     "text": [
      "[1, 2, 3, 4, 5, 6, 7, 8, 9]\n"
     ]
    }
   ],
   "source": [
    "def bubble_sort(lst):\n",
    "    N = len(lst)\n",
    "    for i in range(N - 1):\n",
    "        for j in range(N - i -1):\n",
    "            if lst[j] > lst[j+1]:\n",
    "                lst[j], lst[j+1] = lst[j+1], lst[j]\n",
    "\n",
    "    return lst\n",
    "\n",
    "# Запуск\n",
    "lst = [9,8,7,6,5,4,3,2,1]\n",
    "lst1 = bubble_sort(lst)\n",
    "print(lst1)"
   ]
  },
  {
   "cell_type": "markdown",
   "id": "0026496c-03a8-4fcc-907b-dfb8f3fc0efb",
   "metadata": {},
   "source": [
    "## Task 3"
   ]
  },
  {
   "cell_type": "markdown",
   "id": "688251be-39a3-49ed-9993-a5f9b39f430d",
   "metadata": {},
   "source": [
    "Самое часто встречающееся слово в романе \"Война и Мир\" без учета:\n",
    "   * Пунктуации\n",
    "   * Слов **короче четырех** символов \n",
    "   * 'Стоп-слов', которые приведены в файле в stop_words_russian.txt"
   ]
  },
  {
   "cell_type": "code",
   "execution_count": 8,
   "id": "94501d71-ee88-4f78-808d-20e79a5f3707",
   "metadata": {},
   "outputs": [
    {
     "name": "stdout",
     "output_type": "stream",
     "text": [
      "князь\n"
     ]
    }
   ],
   "source": [
    "import string\n",
    "\n",
    "def MostUsedWord(bookPath, stopWordPath):\n",
    "    book = open(bookPath, 'r')\n",
    "    list_of_book = book.read().lower().translate(str.maketrans('', '', string.punctuation)).split()\n",
    "    stop_bdsm_words = open(stopWordPath, 'r')\n",
    "    list_stop_bdsm_words = stop_bdsm_words.read().split()\n",
    "    new_list_of_book = []\n",
    "    for i in list_of_book: # Удаление стоп-слов из списка\n",
    "        presence_flag = 0\n",
    "        for j in list_stop_bdsm_words:\n",
    "            if (i == j):\n",
    "                presence_flag = 1\n",
    "        if(not(presence_flag)):\n",
    "            new_list_of_book.append(i)\n",
    "    dict_of_book = {}\n",
    "    for i in new_list_of_book:\n",
    "        if i.isalpha() and len(i) > 4:  # слово не число длинна слова не меньше 4\n",
    "            dict_of_book[i] = dict_of_book.get(i, 0) + 1\n",
    "\n",
    "    sorted_dict_of_book = sorted(dict_of_book.items(), key=lambda x: x[1], reverse = True)\n",
    "    final_dict = dict(sorted_dict_of_book)\n",
    "    return list(final_dict.keys())[0]\n",
    "\n",
    "bookPath = \"../datasets/war_and_peace.txt\"\n",
    "stopWordPath = \"../datasets/stop_words_russian.txt\"\n",
    "print(MostUsedWord(bookPath, stopWordPath))"
   ]
  },
  {
   "cell_type": "markdown",
   "id": "d4b6f922-7a22-4b38-8529-c92994edd38c",
   "metadata": {},
   "source": [
    "## Task 4"
   ]
  },
  {
   "cell_type": "markdown",
   "id": "c2cef602-ab87-47f8-ab2c-e323442b62f7",
   "metadata": {},
   "source": [
    "Функция для расчета числа Фибоначчи с использованием рекурсивной функции."
   ]
  },
  {
   "cell_type": "code",
   "execution_count": 6,
   "id": "ec1c1860-774d-4583-a44b-bdc30492eead",
   "metadata": {},
   "outputs": [
    {
     "name": "stdout",
     "output_type": "stream",
     "text": [
      "196418\n"
     ]
    }
   ],
   "source": [
    "def fib(n):\n",
    "    result = 0\n",
    "    if n == 1 or n == 2:\n",
    "        result = 1\n",
    "    else:\n",
    "        result = fib(n - 1) + fib(n - 2)\n",
    "    return result\n",
    "\n",
    "print(fib(27))"
   ]
  },
  {
   "cell_type": "markdown",
   "id": "1acc3069-4b1a-4a5c-98e4-055731203d2d",
   "metadata": {},
   "source": [
    "## Task 5"
   ]
  },
  {
   "cell_type": "markdown",
   "id": "944e804e-fb40-4ea2-b931-38b595d3c262",
   "metadata": {},
   "source": [
    "Функция перевода валюты в рубли."
   ]
  },
  {
   "cell_type": "code",
   "execution_count": 16,
   "id": "570cfb71-5cf0-41fc-aae7-cf2b2812eaca",
   "metadata": {},
   "outputs": [
    {
     "name": "stdout",
     "output_type": "stream",
     "text": [
      "Стоимость 952.13 USD в рублях: 66688.518182\n",
      "Стоимость 521.59 EUR в рублях: 40139.688676000005\n",
      "Стоимость 112.38 GBP в рублях: 9702.10254\n"
     ]
    }
   ],
   "source": [
    "import requests\n",
    "import json\n",
    "\n",
    "def convert2RU(currency, value):\n",
    "    convert_value = 0.0\n",
    "    exchange_rate = 0.0\n",
    "    url = 'https://www.cbr-xml-daily.ru/daily_json.js'\n",
    "    response = requests.get(url)\n",
    "    dict_of_json = response.json()\n",
    "    for key1, value1 in dict_of_json.items():\n",
    "        if key1 == 'Valute':\n",
    "            for key2, value2 in value1.items():\n",
    "                if key2 == currency:\n",
    "                    for key3, value3 in value2.items():\n",
    "                        if key3 == 'Value':\n",
    "                            exchange_rate = float(value3)\n",
    "    convert_value = exchange_rate * value\n",
    "    return convert_value\n",
    "# Запуск\n",
    "currency = 'USD'\n",
    "value = 952.13\n",
    "print(\"Стоимость 952.13 USD в рублях:\", convert2RU(currency, value))\n",
    "currency = 'EUR'\n",
    "value = 521.59\n",
    "print(\"Стоимость 521.59 EUR в рублях:\", convert2RU(currency, value))\n",
    "currency = 'GBP'\n",
    "value = 112.38\n",
    "print(\"Стоимость 112.38 GBP в рублях:\", convert2RU(currency, value))"
   ]
  },
  {
   "cell_type": "markdown",
   "id": "fe1396fa-7109-48ad-a255-4d4f622c18a4",
   "metadata": {},
   "source": [
    "## *Task 6. Дополнительное задание"
   ]
  },
  {
   "cell_type": "markdown",
   "id": "71315701-39bd-4759-afd9-7bf20486b4f7",
   "metadata": {},
   "source": [
    "Написание проверки на пaлиндром."
   ]
  },
  {
   "cell_type": "markdown",
   "id": "715fd45b-eb76-4eb5-bbd8-a257035fe892",
   "metadata": {},
   "source": [
    "1. На вход функции _isPalindrome_ подается **число** (int). \\\n",
    "Функция возвращает **True**, если число является палидромом и **False** в противном случае. "
   ]
  },
  {
   "cell_type": "code",
   "execution_count": 19,
   "id": "9f48d9c7-c413-47fb-b692-ce5ad8ed9ec1",
   "metadata": {},
   "outputs": [
    {
     "name": "stdout",
     "output_type": "stream",
     "text": [
      "True\n"
     ]
    }
   ],
   "source": [
    "def isPalindrome(x: int) -> bool:\n",
    "    num = str(x)\n",
    "    num1 = ''.join(reversed(str(x)))\n",
    "    return num == num1\n",
    "\n",
    "# Запуск\n",
    "x = 34543\n",
    "print(isPalindrome(x))"
   ]
  },
  {
   "cell_type": "markdown",
   "id": "e86f6f7c-c3b0-4b92-bb3d-651dcc7d4706",
   "metadata": {},
   "source": [
    "2. Реализация функции без использования перевода числа в строку."
   ]
  },
  {
   "cell_type": "code",
   "execution_count": 17,
   "id": "35cf92fa-04c6-489b-9523-99d78dce4ba1",
   "metadata": {},
   "outputs": [
    {
     "name": "stdout",
     "output_type": "stream",
     "text": [
      "True\n"
     ]
    }
   ],
   "source": [
    "def isPalindrome_v2(x: int) -> bool:\n",
    "    n = x\n",
    "    rev = 0\n",
    "    while n:\n",
    "        r = n % 10\n",
    "        rev = rev * 10 + r\n",
    "        n = n // 10\n",
    "    return x == rev\n",
    "\n",
    "# Запуск\n",
    "n = 45654\n",
    "print(isPalindrome_v2(n))"
   ]
  }
 ],
 "metadata": {
  "interpreter": {
   "hash": "aee8b7b246df8f9039afb4144a1f6fd8d2ca17a180786b69acc140d282b71a49"
  },
  "kernelspec": {
   "display_name": "Python 3.7.9 64-bit",
   "language": "python",
   "name": "python3"
  },
  "language_info": {
   "codemirror_mode": {
    "name": "ipython",
    "version": 3
   },
   "file_extension": ".py",
   "mimetype": "text/x-python",
   "name": "python",
   "nbconvert_exporter": "python",
   "pygments_lexer": "ipython3",
   "version": "3.7.9"
  }
 },
 "nbformat": 4,
 "nbformat_minor": 5
}
