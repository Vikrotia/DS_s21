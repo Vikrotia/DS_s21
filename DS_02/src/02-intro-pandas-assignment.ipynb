{
 "cells": [
  {
   "cell_type": "markdown",
   "metadata": {},
   "source": [
    "# Задание"
   ]
  },
  {
   "cell_type": "code",
   "execution_count": 12,
   "metadata": {},
   "outputs": [
    {
     "name": "stderr",
     "output_type": "stream",
     "text": [
      "/Library/Frameworks/Python.framework/Versions/3.7/lib/python3.7/site-packages/IPython/core/interactiveshell.py:3553: DtypeWarning: Columns (0,208,225,255,257,260,270,271,277) have mixed types.Specify dtype option on import or set low_memory=False.\n",
      "  exec(code_obj, self.user_global_ns, self.user_ns)\n"
     ]
    }
   ],
   "source": [
    "import pandas as pd\n",
    "import numpy as np\n",
    "import math\n",
    "data = pd.read_csv('../datasets/kaggle_survey_2022_responses.csv')"
   ]
  },
  {
   "cell_type": "markdown",
   "metadata": {},
   "source": [
    "## Задание 1"
   ]
  },
  {
   "cell_type": "markdown",
   "metadata": {},
   "source": [
    "Узнай самый часто встречаемый возраст респондентов"
   ]
  },
  {
   "cell_type": "code",
   "execution_count": 13,
   "metadata": {},
   "outputs": [
    {
     "name": "stdout",
     "output_type": "stream",
     "text": [
      "Cамый часто встречаемый возраст респондентов -  18-21\n"
     ]
    }
   ],
   "source": [
    "t = data['Q2'].mode().tolist()\n",
    "print(\"Cамый часто встречаемый возраст респондентов - \", t[0])"
   ]
  },
  {
   "cell_type": "markdown",
   "metadata": {},
   "source": [
    "## Задание 2"
   ]
  },
  {
   "cell_type": "markdown",
   "metadata": {},
   "source": [
    "Посчитай долю женщин среди русских участником опроса, которые уже не студенты. Результат округли до 2х цифры после запятой"
   ]
  },
  {
   "cell_type": "code",
   "execution_count": 14,
   "metadata": {},
   "outputs": [
    {
     "name": "stdout",
     "output_type": "stream",
     "text": [
      "Доля женщин среди русских участником опроса, которые уже не студенты:  0.12\n"
     ]
    }
   ],
   "source": [
    "value1 = (data[data['Q4'].str.contains('Russia') & data['Q3'].str.contains('Woman') & data['Q5'].str.contains('No')]).shape[0]\n",
    "value2 = (data[data['Q4'].str.contains('Russia')]).shape[0]\n",
    "print(\"Доля женщин среди русских участником опроса, которые уже не студенты: \", round(value1 / value2, 2))\n"
   ]
  },
  {
   "cell_type": "markdown",
   "metadata": {},
   "source": [
    "## Задание 3"
   ]
  },
  {
   "cell_type": "markdown",
   "metadata": {},
   "source": [
    "Найди среднее время заполнения опроса в **минутах**. Результат округли до 2х знаков после запятой"
   ]
  },
  {
   "cell_type": "code",
   "execution_count": 15,
   "metadata": {},
   "outputs": [
    {
     "name": "stdout",
     "output_type": "stream",
     "text": [
      "Cреднее время заполнения опроса в минутах:  168.17\n"
     ]
    }
   ],
   "source": [
    "data1 = data.drop(labels = [0], axis = 0)\n",
    "data2 = data1.astype({'Duration (in seconds)': np.int64})\n",
    "sec = data2['Duration (in seconds)'].mean()\n",
    "print(\"Cреднее время заполнения опроса в минутах: \", round(sec / 60, 2))\n"
   ]
  },
  {
   "cell_type": "markdown",
   "metadata": {},
   "source": [
    "## Задание 4"
   ]
  },
  {
   "cell_type": "markdown",
   "metadata": {},
   "source": [
    "Выведи топ-3 образовательных курса, которые указали респонденты. P.S Это вопрос Q6"
   ]
  },
  {
   "cell_type": "code",
   "execution_count": 16,
   "metadata": {},
   "outputs": [
    {
     "name": "stdout",
     "output_type": "stream",
     "text": [
      "Топ-3 образовательных курса:\n",
      "Coursera, University Courses (resulting in a university degree), Kaggle Learn Courses\n"
     ]
    }
   ],
   "source": [
    "q6_columns = [col for col in data.columns if col.startswith('Q6')]\n",
    "courses = data[q6_columns].melt(var_name='Вопрос', value_vars=q6_columns)\n",
    "print(\"Топ-3 образовательных курса:\")\n",
    "result = courses['value'].value_counts()\n",
    "print(result.index[0] +\", \" + result.index[1]+ \", \"+ result.index[2])\n"
   ]
  },
  {
   "cell_type": "markdown",
   "metadata": {},
   "source": [
    "## Задание 5"
   ]
  },
  {
   "cell_type": "markdown",
   "metadata": {},
   "source": [
    "Узнай топ-5 языков программирования, которые регулярно используют Data Scientists в своей работе"
   ]
  },
  {
   "cell_type": "code",
   "execution_count": 17,
   "metadata": {},
   "outputs": [
    {
     "name": "stdout",
     "output_type": "stream",
     "text": [
      "Топ-5 языков программирования:\n",
      "Python, SQL, R, C++, Java\n"
     ]
    }
   ],
   "source": [
    "q12_columns = [col for col in data.columns if col.startswith('Q12')]\n",
    "language = data[q12_columns].melt(var_name='Вопрос', value_vars=q12_columns)\n",
    "print(\"Топ-5 языков программирования:\")\n",
    "result = language['value'].value_counts()\n",
    "print(result.index[0] +\", \" + result.index[1]+ \", \" + result.index[2]+ \", \" + result.index[3] +\", \" +result.index[4])"
   ]
  },
  {
   "cell_type": "markdown",
   "metadata": {},
   "source": [
    "## Задание 6"
   ]
  },
  {
   "cell_type": "markdown",
   "metadata": {},
   "source": [
    "Узнай средний доход 'Data Scientist' и 'Machine Learning/ MLops Engineer' \\\n",
    "Т.к в колонке Q29 у на промежуток, то возьмите среднее значение из промежкутка. Например '15,000-19,999' - 17500, '125,000-149,999' - 137500. >$1,000,000 - оставляем 1000000"
   ]
  },
  {
   "cell_type": "markdown",
   "metadata": {},
   "source": [
    "## Задание 7 - Дополнительное задание"
   ]
  },
  {
   "cell_type": "code",
   "execution_count": 36,
   "metadata": {},
   "outputs": [
    {
     "name": "stdout",
     "output_type": "stream",
     "text": [
      "Средний доход Data Scientist:  68288\n",
      "Средний доход Machine Learning/ MLops Engineer:  63485\n"
     ]
    }
   ],
   "source": [
    "profession = ['Data Scientist', 'Machine Learning/ MLops Engineer']\n",
    "for i in profession:\n",
    "    selection_replace_split = []\n",
    "    selection = data.loc[data['Q23'] == i].loc[:,'Q29'].dropna()\n",
    "    len_of_selection =  len(selection)\n",
    "    selection = selection.tolist()\n",
    "    selection1 = [selection_replace_split.append(j.replace('-', ' ').replace(',', '').replace('$', '').replace('>', '').split()) for j in selection]\n",
    "    selection_final = []\n",
    "    for j in selection_replace_split:\n",
    "        temp = 0\n",
    "        for k in j:\n",
    "            temp += int(k)\n",
    "        selection_final.append(temp / 2)\n",
    "    result_of_selection = 0\n",
    "    for k in selection_final:\n",
    "        result_of_selection += k\n",
    "    result_of_selection /= len_of_selection\n",
    "    print(\"Средний доход \" + i + \": \",  math.ceil(result_of_selection))"
   ]
  }
 ],
 "metadata": {
  "interpreter": {
   "hash": "aee8b7b246df8f9039afb4144a1f6fd8d2ca17a180786b69acc140d282b71a49"
  },
  "kernelspec": {
   "display_name": "Python 3.7.9 64-bit",
   "language": "python",
   "name": "python3"
  },
  "language_info": {
   "codemirror_mode": {
    "name": "ipython",
    "version": 3
   },
   "file_extension": ".py",
   "mimetype": "text/x-python",
   "name": "python",
   "nbconvert_exporter": "python",
   "pygments_lexer": "ipython3",
   "version": "3.7.9"
  }
 },
 "nbformat": 4,
 "nbformat_minor": 4
}
